{
 "cells": [
  {
   "cell_type": "markdown",
   "metadata": {},
   "source": [
    "# Load and visualize dataset\n"
   ]
  },
  {
   "cell_type": "code",
   "execution_count": 2,
   "metadata": {},
   "outputs": [],
   "source": [
    "import json\n",
    "\n",
    "with open('labels.json', 'r') as file:\n",
    "    labels = json.load(file)"
   ]
  },
  {
   "cell_type": "code",
   "execution_count": 6,
   "metadata": {},
   "outputs": [
    {
     "name": "stdout",
     "output_type": "stream",
     "text": [
      "Ids: 21 | Class: fire lily\n",
      "Ids: 3 | Class: canterbury bells\n",
      "Ids: 45 | Class: bolero deep blue\n",
      "Ids: 1 | Class: pink primrose\n",
      "Ids: 34 | Class: mexican aster\n",
      "Ids: 27 | Class: prince of wales feathers\n",
      "Ids: 7 | Class: moon orchid\n",
      "Ids: 16 | Class: globe-flower\n",
      "Ids: 25 | Class: grape hyacinth\n",
      "Ids: 26 | Class: corn poppy\n",
      "Ids: 79 | Class: toad lily\n"
     ]
    }
   ],
   "source": [
    "count = 0 \n",
    "for key, value in labels.items():\n",
    "    print(f\"Ids: {key} | Class: {value}\")\n",
    "    if count ==10:\n",
    "        break\n",
    "    else:\n",
    "        count +=1"
   ]
  },
  {
   "cell_type": "markdown",
   "metadata": {},
   "source": [
    "## Adding Two new class"
   ]
  },
  {
   "cell_type": "code",
   "execution_count": 7,
   "metadata": {},
   "outputs": [],
   "source": [
    "labels['103'] = \"burflower-tree\"\n",
    "labels['104'] = \"Gul Mohur\""
   ]
  },
  {
   "cell_type": "code",
   "execution_count": 9,
   "metadata": {},
   "outputs": [],
   "source": [
    "with open(\"classes.json\",\"w\") as file:\n",
    "    json.dump(labels,file)"
   ]
  },
  {
   "cell_type": "markdown",
   "metadata": {},
   "source": [
    "# Loading New Classes"
   ]
  },
  {
   "cell_type": "code",
   "execution_count": 10,
   "metadata": {},
   "outputs": [],
   "source": [
    "import json\n",
    "\n",
    "with open('classes.json', 'r') as file:\n",
    "    classes = json.load(file)"
   ]
  },
  {
   "cell_type": "code",
   "execution_count": 13,
   "metadata": {},
   "outputs": [
    {
     "name": "stdout",
     "output_type": "stream",
     "text": [
      "Ids: 21 | Class: fire lily\n",
      "Ids: 3 | Class: canterbury bells\n",
      "Ids: 45 | Class: bolero deep blue\n",
      "Ids: 1 | Class: pink primrose\n",
      "Ids: 34 | Class: mexican aster\n",
      "Ids: 27 | Class: prince of wales feathers\n",
      "Ids: 7 | Class: moon orchid\n",
      "Ids: 16 | Class: globe-flower\n",
      "Ids: 25 | Class: grape hyacinth\n",
      "Ids: 26 | Class: corn poppy\n",
      "Ids: 79 | Class: toad lily\n"
     ]
    }
   ],
   "source": [
    "count = 0 \n",
    "for key, value in classes.items():\n",
    "    print(f\"Ids: {key} | Class: {value}\")\n",
    "    if count ==10:\n",
    "        break\n",
    "    else:\n",
    "        count +=1"
   ]
  },
  {
   "cell_type": "code",
   "execution_count": null,
   "metadata": {},
   "outputs": [],
   "source": []
  }
 ],
 "metadata": {
  "kernelspec": {
   "display_name": "Python 3",
   "language": "python",
   "name": "python3"
  },
  "language_info": {
   "codemirror_mode": {
    "name": "ipython",
    "version": 3
   },
   "file_extension": ".py",
   "mimetype": "text/x-python",
   "name": "python",
   "nbconvert_exporter": "python",
   "pygments_lexer": "ipython3",
   "version": "3.7.6"
  }
 },
 "nbformat": 4,
 "nbformat_minor": 4
}
